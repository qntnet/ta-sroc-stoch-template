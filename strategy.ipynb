{
 "cells": [
  {
   "cell_type": "markdown",
   "metadata": {},
   "source": [
    "# Technical Analysis Template: sRoC + Stochastic Oscillator"
   ]
  },
  {
   "cell_type": "markdown",
   "metadata": {},
   "source": [
    "Buy and sell using oversold and overbought levels of the Stochastic oscillator according the trend. \n",
    "The trend indicator is the smooth Rate of Change with WMA as a smooth function."
   ]
  },
  {
   "cell_type": "code",
   "execution_count": null,
   "metadata": {},
   "outputs": [],
   "source": [
    "import qnt.graph as qngraph\n",
    "import qnt.data as qndata\n",
    "import qnt.stats as qnstats\n",
    "import qnt.xr_talib as qnxrtalib\n",
    "\n",
    "import xarray as xr\n",
    "import pandas as pd\n",
    "from qnt.stepper import test_strategy\n",
    "import qnt.forward_looking as qnfl\n",
    "\n",
    "import xarray.ufuncs as xrf"
   ]
  },
  {
   "cell_type": "markdown",
   "metadata": {},
   "source": [
    "# Data"
   ]
  },
  {
   "cell_type": "code",
   "execution_count": null,
   "metadata": {
    "scrolled": true
   },
   "outputs": [],
   "source": [
    "data = qndata.load_data(min_date=\"2014-01-01\", dims=(\"time\", \"field\", \"asset\"), forward_order=True)"
   ]
  },
  {
   "cell_type": "markdown",
   "metadata": {},
   "source": [
    "\n",
    "# Calc output"
   ]
  },
  {
   "cell_type": "code",
   "execution_count": null,
   "metadata": {
    "scrolled": false
   },
   "outputs": [],
   "source": [
    "SROC_POSITIVE_TREND_LEVEL=0.05\n",
    "SROC_CLOSE_LEVEL=-0.05\n",
    "\n",
    "STOCH_OVERBOUGHT_LEVEL=92\n",
    "STOCH_OVERSOLD_LEVEL=31\n",
    "\n",
    "wma = qnxrtalib.WMA(data.sel(field='close'), 120)\n",
    "sroc = qnxrtalib.ROCP(wma, 60)\n",
    "\n",
    "stoch = qnxrtalib.STOCH(data, 8, 3, 3)\n",
    "k = stoch.sel(field='slowk')\n",
    "d = stoch.sel(field='slowd')\n",
    "\n",
    "data_ext = xr.concat([wma, sroc, k, d], pd.Index(['wma', 'sroc', 'k', 'd'], name='field'))\n",
    "data_ext = xr.concat([data, data_ext], 'field')\n",
    "\n",
    "weights = data.isel(time=0, field=0)\n",
    "weights[:] = 0\n",
    "\n",
    "\n",
    "def step(data):\n",
    "    latest = data.isel(time=-1)\n",
    "\n",
    "    is_liquid = latest.sel(field=\"is_liquid\")\n",
    "    sroc = latest.sel(field='sroc')\n",
    "    k = latest.sel(field='k')\n",
    "    d = latest.sel(field='d')\n",
    "\n",
    "    need_open = xrf.logical_and(\n",
    "        sroc > SROC_POSITIVE_TREND_LEVEL, \n",
    "        xrf.logical_and(k < STOCH_OVERSOLD_LEVEL, d < STOCH_OVERSOLD_LEVEL)\n",
    "    )\n",
    "    need_close = xrf.logical_or(\n",
    "        sroc < SROC_CLOSE_LEVEL, \n",
    "        xrf.logical_and(k > STOCH_OVERBOUGHT_LEVEL, d > STOCH_OVERBOUGHT_LEVEL)\n",
    "    )\n",
    "\n",
    "    global weights\n",
    "    \n",
    "    weights.loc[need_open] = 1\n",
    "    weights.loc[need_close] = 0\n",
    "    \n",
    "    weights.loc[is_liquid == 0] = 0 # prevention of illiquid assets trading\n",
    "\n",
    "    return (weights / weights.sum('asset')).fillna(0)\n",
    "\n",
    "\n",
    "output = test_strategy(data_ext, step=step)"
   ]
  },
  {
   "cell_type": "markdown",
   "metadata": {},
   "source": [
    "## Stats and plots"
   ]
  },
  {
   "cell_type": "code",
   "execution_count": null,
   "metadata": {},
   "outputs": [],
   "source": [
    "stat = qnstats.calc_stat(data, output, max_periods=252 * 3)\n",
    "display(stat.to_pandas().tail())"
   ]
  },
  {
   "cell_type": "code",
   "execution_count": null,
   "metadata": {},
   "outputs": [],
   "source": [
    "qngraph.make_plot_filled(\n",
    "    stat.coords['time'].to_pandas(), \n",
    "    stat.loc[:, 'equity'].values,  \n",
    "    color=\"blue\", \n",
    "    name=\"PnL (Equity)\", \n",
    "    type=\"log\"\n",
    ")"
   ]
  },
  {
   "cell_type": "code",
   "execution_count": null,
   "metadata": {},
   "outputs": [],
   "source": [
    "qngraph.make_plot_filled(\n",
    "    stat.coords['time'].to_pandas(), \n",
    "    stat.loc[:, 'underwater'].values, \n",
    "    color=\"red\", \n",
    "    name=\"Underwater Chart\", \n",
    "    range_max= 0\n",
    ")"
   ]
  },
  {
   "cell_type": "code",
   "execution_count": null,
   "metadata": {},
   "outputs": [],
   "source": [
    "SR_OFFSET = 252 * 3 + 120 + 60 + 8 * 3 * 3\n",
    "qngraph.make_plot_filled(\n",
    "    stat.coords['time'].to_pandas()[SR_OFFSET:], \n",
    "    stat.loc[:, 'sharpe_ratio'].values[SR_OFFSET:], \n",
    "    color=\"purple\", \n",
    "    name=\"Rolling SR\"\n",
    ")"
   ]
  },
  {
   "cell_type": "code",
   "execution_count": null,
   "metadata": {
    "scrolled": true
   },
   "outputs": [],
   "source": [
    "qngraph.make_plot_filled(\n",
    "    stat.coords['time'].to_pandas(), \n",
    "    stat.loc[:, 'bias'].values, \n",
    "    color=\"gray\", \n",
    "    name=\"Bias\"\n",
    ")"
   ]
  },
  {
   "cell_type": "code",
   "execution_count": null,
   "metadata": {},
   "outputs": [],
   "source": [
    "qnstats.print_correlation(output, data)"
   ]
  },
  {
   "cell_type": "markdown",
   "metadata": {},
   "source": [
    "# Checks"
   ]
  },
  {
   "cell_type": "code",
   "execution_count": null,
   "metadata": {},
   "outputs": [],
   "source": [
    "# Use the function from 'qnfl' ensures that no forward-looking\n",
    "# is taking place. \n",
    "def strategy():\n",
    "    \"\"\"\n",
    "    it is the same strtegy, but implemented with xarray\n",
    "    Entire code of strategy calculation is collected here.\n",
    "    \"\"\"\n",
    "    data = qndata.load_data(min_date=\"2014-01-01\", forward_order=True, dims=(\"time\", \"field\", \"asset\"))\n",
    "\n",
    "    SROC_POSITIVE_TREND_LEVEL=0.05\n",
    "    SROC_CLOSE_LEVEL=-0.05\n",
    "\n",
    "    STOCH_OVERBOUGHT_LEVEL=92\n",
    "    STOCH_OVERSOLD_LEVEL=31\n",
    "\n",
    "    wma = qnxrtalib.WMA(data.sel(field='close'), 120)\n",
    "    sroc = qnxrtalib.ROCP(wma, 60)\n",
    "\n",
    "    stoch = qnxrtalib.STOCH(data, 8, 3, 3)\n",
    "    k = stoch.sel(field='slowk')\n",
    "    d = stoch.sel(field='slowd')\n",
    "\n",
    "    data_ext = xr.concat([wma, sroc, k, d], pd.Index(['wma', 'sroc', 'k', 'd'], name='field'))\n",
    "    data_ext = xr.concat([data, data_ext], 'field')\n",
    "\n",
    "    global weights\n",
    "    weights = data.isel(time=0, field=0)\n",
    "    weights[:] = 0\n",
    "\n",
    "\n",
    "    def step(data):\n",
    "        latest = data.isel(time=-1)\n",
    "\n",
    "        is_liquid = latest.sel(field=\"is_liquid\")\n",
    "        sroc = latest.sel(field='sroc')\n",
    "        k = latest.sel(field='k')\n",
    "        d = latest.sel(field='d')\n",
    "\n",
    "        need_open = xrf.logical_and(\n",
    "            sroc > SROC_POSITIVE_TREND_LEVEL, \n",
    "            xrf.logical_and(k < STOCH_OVERSOLD_LEVEL, d < STOCH_OVERSOLD_LEVEL)\n",
    "        )\n",
    "        need_close = xrf.logical_or(\n",
    "            sroc < SROC_CLOSE_LEVEL, \n",
    "            xrf.logical_and(k > STOCH_OVERBOUGHT_LEVEL, d > STOCH_OVERBOUGHT_LEVEL)\n",
    "        )\n",
    "\n",
    "        global weights\n",
    "\n",
    "        weights.loc[need_open] = 1\n",
    "        weights.loc[need_close] = 0\n",
    "\n",
    "        weights.loc[is_liquid == 0] = 0 # prevention of illiquid assets trading\n",
    "\n",
    "        return (weights / weights.sum('asset')).fillna(0)\n",
    "\n",
    "\n",
    "    output = test_strategy(data_ext, step=step)\n",
    "    \n",
    "    return output\n",
    "\n",
    "# This function runs strategy twice on the different periods: \n",
    "# the entire data and data the with a cropped last half year.\n",
    "# After that this function compares outputs. \n",
    "# Overlapped outputs must be same.\n",
    "output_final = qnfl.load_data_calc_output_and_check_forward_looking(strategy)"
   ]
  },
  {
   "cell_type": "markdown",
   "metadata": {},
   "source": [
    "# Save output"
   ]
  },
  {
   "cell_type": "code",
   "execution_count": null,
   "metadata": {},
   "outputs": [],
   "source": [
    "qndata.write_output(output_final)"
   ]
  }
 ],
 "metadata": {
  "kernelspec": {
   "display_name": "Python 3",
   "language": "python",
   "name": "python3"
  },
  "language_info": {
   "codemirror_mode": {
    "name": "ipython",
    "version": 3
   },
   "file_extension": ".py",
   "mimetype": "text/x-python",
   "name": "python",
   "nbconvert_exporter": "python",
   "pygments_lexer": "ipython3",
   "version": "3.7.3"
  }
 },
 "nbformat": 4,
 "nbformat_minor": 2
}
